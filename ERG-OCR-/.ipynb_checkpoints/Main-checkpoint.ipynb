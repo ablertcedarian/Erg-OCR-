{
 "cells": [
  {
   "cell_type": "code",
   "execution_count": 8,
   "id": "059b76e2",
   "metadata": {},
   "outputs": [],
   "source": [
    "import cv2\n",
    "import pytesseract\n",
    "import numpy as np\n",
    "from PIL import Image, ImageEnhance, ImageFilter\n",
    "pytesseract.pytesseract.tesseract_cmd = r'C:\\Program Files\\\\Tesseract-OCR\\\\tesseract.exe'"
   ]
  },
  {
   "cell_type": "code",
   "execution_count": 9,
   "id": "cae16de8",
   "metadata": {},
   "outputs": [
    {
     "name": "stdout",
     "output_type": "stream",
     "text": [
      "q (concept z. Pie\n",
      "' | i\n",
      "@\n",
      "\n",
      "@ |\n",
      "@\n",
      "@\n",
      "\n",
      "| el\n",
      "aa =\n",
      "\n"
     ]
    },
    {
     "data": {
      "text/plain": [
       "True"
      ]
     },
     "execution_count": 9,
     "metadata": {},
     "output_type": "execute_result"
    }
   ],
   "source": [
    "path = 'Images\\\\pnged.png'\n",
    "# Grayscale, Gaussian blur, Otsu's threshold\n",
    "image = cv2.imread(path)\n",
    "gray = cv2.cvtColor(image, cv2.COLOR_BGR2GRAY)\n",
    "blur = cv2.GaussianBlur(gray, (3,3), 0)\n",
    "thresh = cv2.threshold(blur, 0, 255, cv2.THRESH_BINARY_INV + cv2.THRESH_OTSU)[1]\n",
    "\n",
    "# Morph open to remove noise and invert image\n",
    "kernel = cv2.getStructuringElement(cv2.MORPH_RECT, (3,3))\n",
    "opening = cv2.morphologyEx(thresh, cv2.MORPH_OPEN, kernel, iterations=1)\n",
    "invert = 255 - opening\n",
    "\n",
    "# Perform text extraction\n",
    "data = pytesseract.image_to_string(invert, lang='eng', config='--psm 6')\n",
    "print(data)\n",
    "\n",
    "cv2.imwrite('thresh.png', thresh)\n",
    "cv2.imwrite('opening.png', opening)\n",
    "cv2.imwrite('invert.png', invert)"
   ]
  },
  {
   "cell_type": "code",
   "execution_count": 3,
   "id": "0f11743d",
   "metadata": {},
   "outputs": [
    {
     "name": "stdout",
     "output_type": "stream",
     "text": [
      "(( BREAKING NEWS )))\n",
      "\n"
     ]
    }
   ],
   "source": [
    "img = cv2.imread('Images\\\\breaking_news.png')\n",
    "text = pytesseract.image_to_string(img)\n",
    "print(text)"
   ]
  },
  {
   "cell_type": "code",
   "execution_count": 6,
   "id": "bb9e49a3",
   "metadata": {},
   "outputs": [],
   "source": [
    "# Read the original image\n",
    "# img = cv2.imread(path)\n",
    "# # Display original image\n",
    "# cv2.imwrite('Original.png', img)\n",
    "# # cv2.waitKey(0)\n",
    " \n",
    "# # Convert to graycsale\n",
    "# img_gray = cv2.cvtColor(img, cv2.COLOR_BGR2GRAY)\n",
    "# # Blur the image for better edge detection\n",
    "# img_blur = cv2.GaussianBlur(img_gray, (3,3), 0)\n",
    "\n",
    "img_blur = invert\n",
    "# Sobel Edge Detection\n",
    "sobelx = cv2.Sobel(src=img_blur, ddepth=cv2.CV_64F, dx=1, dy=0, ksize=5) # Sobel Edge Detection on the X axis\n",
    "sobely = cv2.Sobel(src=img_blur, ddepth=cv2.CV_64F, dx=0, dy=1, ksize=5) # Sobel Edge Detection on the Y axis\n",
    "sobelxy = cv2.Sobel(src=img_blur, ddepth=cv2.CV_64F, dx=1, dy=1, ksize=5) # Combined X and Y Sobel Edge Detection\n",
    "# Display Sobel Edge Detection Images\n",
    "cv2.imwrite('Sobel X.png', sobelx)\n",
    "# cv2.waitKey(0)\n",
    "cv2.imwrite('Sobel Y.png', sobely)\n",
    "# cv2.waitKey(0)\n",
    "cv2.imwrite('Sobel X Y using Sobel() function.png', sobelxy)\n",
    "# cv2.waitKey(0)\n",
    "# Canny Edge Detection\n",
    "edges = cv2.Canny(image=img_blur, threshold1=100, threshold2=200) # Canny Edge Detection\n",
    "# Display Canny Edge Detection Image\n",
    "cv2.imwrite('Canny Edge Detection.png', edges)\n",
    "           \n",
    "# cv2.waitKey(0)\n",
    "cv2.destroyAllWindows()\n"
   ]
  },
  {
   "cell_type": "code",
   "execution_count": 17,
   "id": "9dbfadb6",
   "metadata": {},
   "outputs": [],
   "source": [
    "def clean(path):\n",
    "    image = cv2.imread(path)\n",
    "    # Grayscale, Gaussian blur, Otsu's threshold\n",
    "    gray = cv2.cvtColor(image, cv2.COLOR_BGR2GRAY)\n",
    "    blur = cv2.GaussianBlur(gray, (3,3), 0)\n",
    "    thresh = cv2.threshold(blur, 0, 255, cv2.THRESH_BINARY_INV + cv2.THRESH_OTSU)[1]\n",
    "\n",
    "    # Morph open to remove noise and invert image\n",
    "    kernel = cv2.getStructuringElement(cv2.MORPH_RECT, (3,3))\n",
    "    opening = cv2.morphologyEx(thresh, cv2.MORPH_OPEN, kernel, iterations=1)\n",
    "    invert = 255 - opening\n",
    "    \n",
    "    return invert\n",
    "\n",
    "def cropOnContour(image):\n",
    "    img = image\n",
    "    h,w = img.shape[:2]\n",
    "    mask = np.zeros((h,w), np.uint8)\n",
    "    contours, hierarchy = cv2.findContours(thresh, # if you use opening then change \"thresh\" to \"opening\"\n",
    "                                              cv2.RETR_TREE,cv2.CHAIN_APPROX_NONE)\n",
    "    cnt = max(contours, key=cv2.contourArea)\n",
    "    cv2.drawContours(mask, [cnt], 0, 255, -1)\n",
    "\n",
    "    # Perform a bitwise operation\n",
    "    res = cv2.bitwise_and(img, img, mask=mask)\n",
    "\n",
    "    cv2.imwrite(\"contour.png\", mask)\n",
    "    cv2.imwrite(\"anded.png\", res)\n",
    "    return res"
   ]
  },
  {
   "cell_type": "code",
   "execution_count": 19,
   "id": "5b725551",
   "metadata": {},
   "outputs": [
    {
     "data": {
      "text/plain": [
       "True"
      ]
     },
     "execution_count": 19,
     "metadata": {},
     "output_type": "execute_result"
    }
   ],
   "source": [
    "path = 'Images\\\\pnged.png'\n",
    "invert1 = clean(path)\n",
    "cv2.imwrite(\"invert1.png\", invert1)\n",
    "cropped1 = cropOnContour(invert1)\n",
    "cv2.imwrite(\"cropped1.png\", cropped1)"
   ]
  },
  {
   "cell_type": "code",
   "execution_count": 31,
   "id": "46638887",
   "metadata": {},
   "outputs": [
    {
     "name": "stdout",
     "output_type": "stream",
     "text": [
      "bbe\n",
      "\n",
      ") 2027 ie\n",
      "\n",
      "= preter S500rn lo\n",
      "\n",
      "1 F902 23312 12 |\n",
      "\n",
      "\\0 FOO 2eeie it\n",
      "\n",
      "r22\n",
      "\n",
      "| ;\n",
      "© _ jalertieran 5) Sacameegatoanarmmengaintinetslitians hoa }\n",
      "\n"
     ]
    },
    {
     "data": {
      "text/plain": [
       "True"
      ]
     },
     "execution_count": 31,
     "metadata": {},
     "output_type": "execute_result"
    }
   ],
   "source": [
    "path = 'Images\\\\pnged.png'\n",
    "# Grayscale, Gaussian blur, Otsu's threshold\n",
    "image = cv2.imread(path)\n",
    "gray = cv2.cvtColor(image, cv2.COLOR_BGR2GRAY)\n",
    "blur = cv2.GaussianBlur(gray, (3,3), 0)\n",
    "thresh = cv2.threshold(blur, 0, 255, cv2.THRESH_BINARY_INV + cv2.THRESH_OTSU)[1]\n",
    "\n",
    "# Morph open to remove noise and invert image\n",
    "kernel = cv2.getStructuringElement(cv2.MORPH_RECT, (3,3))\n",
    "opening = cv2.morphologyEx(thresh, cv2.MORPH_OPEN, kernel, iterations=1)\n",
    "invert = 255 - opening\n",
    "\n",
    "# Select contour\n",
    "h,w = img.shape[:2]\n",
    "mask = np.zeros((h,w), np.uint8)\n",
    "contours, hierarchy = cv2.findContours(thresh, # if you use opening then change \"thresh\" to \"opening\"\n",
    "                                          cv2.RETR_TREE,cv2.CHAIN_APPROX_NONE)\n",
    "cnt = max(contours, key=cv2.contourArea)\n",
    "cv2.drawContours(mask, [cnt], 0, 255, -1)\n",
    "cv2.imwrite(\"contour.png\", mask)\n",
    "\n",
    "# Perform a bitwise operation\n",
    "res = cv2.bitwise_and(img, img, mask=mask)\n",
    "cv2.imwrite(\"anded.png\", res)\n",
    "\n",
    "# clean up\n",
    "gray = cv2.cvtColor(res, cv2.COLOR_BGR2GRAY)\n",
    "blur = cv2.GaussianBlur(gray, (3,3), 0)\n",
    "thresh = cv2.threshold(blur, 0, 255, cv2.THRESH_BINARY_INV + cv2.THRESH_OTSU)[1]\n",
    "\n",
    "# remove noise and invert again \n",
    "kernel = cv2.getStructuringElement(cv2.MORPH_RECT, (3,3))\n",
    "opening = cv2.morphologyEx(thresh, cv2.MORPH_OPEN, kernel, iterations=1)\n",
    "invert = 255 - res\n",
    "\n",
    "# Perform text extraction\n",
    "data = pytesseract.image_to_string(invert, lang='eng', config='--psm 6')\n",
    "print(data)\n",
    "\n",
    "cv2.imwrite('thresh.png', thresh)\n",
    "cv2.imwrite('opening.png', opening)\n",
    "cv2.imwrite('invert.png', invert)"
   ]
  },
  {
   "cell_type": "code",
   "execution_count": 30,
   "id": "b6a29524",
   "metadata": {},
   "outputs": [
    {
     "name": "stdout",
     "output_type": "stream",
     "text": [
      "reek er\n",
      "\n"
     ]
    }
   ],
   "source": [
    "image_meter = cv2.imread('Images\\\\meter.png')\n",
    "data = pytesseract.image_to_string(image_meter, lang='eng', config='--psm 6')\n",
    "print(data)"
   ]
  },
  {
   "cell_type": "code",
   "execution_count": null,
   "id": "baa66d2e",
   "metadata": {},
   "outputs": [],
   "source": []
  },
  {
   "cell_type": "code",
   "execution_count": null,
   "id": "ee0696be",
   "metadata": {},
   "outputs": [],
   "source": []
  }
 ],
 "metadata": {
  "kernelspec": {
   "display_name": "Python 3 (ipykernel)",
   "language": "python",
   "name": "python3"
  },
  "language_info": {
   "codemirror_mode": {
    "name": "ipython",
    "version": 3
   },
   "file_extension": ".py",
   "mimetype": "text/x-python",
   "name": "python",
   "nbconvert_exporter": "python",
   "pygments_lexer": "ipython3",
   "version": "3.9.6"
  }
 },
 "nbformat": 4,
 "nbformat_minor": 5
}
